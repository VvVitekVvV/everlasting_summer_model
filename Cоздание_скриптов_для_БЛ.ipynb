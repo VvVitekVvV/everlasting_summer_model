{
  "nbformat": 4,
  "nbformat_minor": 0,
  "metadata": {
    "colab": {
      "provenance": []
    },
    "kernelspec": {
      "name": "python3",
      "display_name": "Python 3"
    },
    "accelerator": "GPU",
    "gpuClass": "standard"
  },
  "cells": [
    {
      "cell_type": "markdown",
      "source": [
        "#Генерация скриптов для бесконечного лета."
      ],
      "metadata": {
        "id": "YLMJM2acjPx8"
      }
    },
    {
      "cell_type": "markdown",
      "source": [
        "Для начала запустите ячейку ниже, чтобы установить необходимые файлы"
      ],
      "metadata": {
        "id": "6jDXNbJijceN"
      }
    },
    {
      "cell_type": "code",
      "metadata": {
        "id": "asqMueYPeIgK",
        "colab": {
          "base_uri": "https://localhost:8080/"
        },
        "outputId": "29ef5cb8-5def-44cd-a6e6-249efc63413a"
      },
      "source": [
        "!pip install -q urllib3\n",
        "!pip install -q -U transformers\n",
        "!pip install -q -U torch\n",
        "!pip install -q sentencepiece > 0.1.92\n",
        "!pip install -q protobuf\n",
        "\n",
        "!wget https://raw.githubusercontent.com/huggingface/transformers/main/examples/pytorch/text-generation/run_generation.py"
      ],
      "execution_count": null,
      "outputs": [
        {
          "output_type": "stream",
          "name": "stdout",
          "text": [
            "--2022-11-28 00:03:36--  https://raw.githubusercontent.com/huggingface/transformers/main/examples/pytorch/text-generation/run_generation.py\n",
            "Resolving raw.githubusercontent.com (raw.githubusercontent.com)... 185.199.110.133, 185.199.108.133, 185.199.111.133, ...\n",
            "Connecting to raw.githubusercontent.com (raw.githubusercontent.com)|185.199.110.133|:443... connected.\n",
            "HTTP request sent, awaiting response... 200 OK\n",
            "Length: 10991 (11K) [text/plain]\n",
            "Saving to: ‘run_generation.py.2’\n",
            "\n",
            "\rrun_generation.py.2   0%[                    ]       0  --.-KB/s               \rrun_generation.py.2 100%[===================>]  10.73K  --.-KB/s    in 0s      \n",
            "\n",
            "2022-11-28 00:03:36 (125 MB/s) - ‘run_generation.py.2’ saved [10991/10991]\n",
            "\n",
            "fatal: destination path 'everlasting_summer_small' already exists and is not an empty directory.\n"
          ]
        }
      ]
    },
    {
      "cell_type": "markdown",
      "source": [
        "Далее перходим к самому созданию.\n",
        "Измените значения параметров в следующей ячеке на необходимые и запустите её.\n",
        "*  **`prompt`**: Входные данные для создаваемого текста (рекомендую использовать `\"    scene bg <идентификатор необходимого бг>\"`), если ничего не указать, то запросит автоматически\n",
        "*  **`length`**: Длина сгеннириованного текста\n",
        "*  **`stop_token`**: Слово/символ на котором генерация прекратится\n",
        "*  **`temperature`**: Чем выше, тем \"безумнее\" сгенеррированный текст (самое оптимальное: 0.7 - 1.0)"
      ],
      "metadata": {
        "id": "R3IDegufjzT-"
      }
    },
    {
      "cell_type": "code",
      "metadata": {
        "id": "JRlAAsIbsHdf",
        "colab": {
          "base_uri": "https://localhost:8080/"
        },
        "outputId": "296e9ac7-4b80-4074-9cda-de0fc9f07111"
      },
      "source": [
        "!python run_generation.py \\\n",
        "    --model_type=gpt2 \\\n",
        "    --model_name_or_path=VvVitekVvV/everlasting_summer_small \\\n",
        "    --length=1024 \\\n",
        "    --k=5 \\\n",
        "    --p=0.95"
      ],
      "execution_count": null,
      "outputs": [
        {
          "output_type": "stream",
          "name": "stdout",
          "text": [
            "/usr/local/lib/python3.7/dist-packages/torch/cuda/__init__.py:497: UserWarning: Can't initialize NVML\n",
            "  warnings.warn(\"Can't initialize NVML\")\n",
            "WARNING:__main__:device: cpu, n_gpu: 0, 16-bits training: False\n",
            "Model prompt >>> scene bg ext_boathouse_day\n",
            "The attention mask and the pad token id were not set. As a consequence, you may observe unexpected behavior. Please pass your input's `attention_mask` to obtain reliable results.\n",
            "Setting `pad_token_id` to `eos_token_id`:50256 for open-end generation.\n",
            "=== GENERATED SEQUENCE 1 ===\n",
            "scene bg ext_boathouse_day\n",
            "    with dissolve\n",
            "    window show\n",
            "    \"Я проснулся оттого, что кто-то тряс меня за плечи.\"\n",
            "    me \"Спишь?\"\n",
            "    \"Спросил я сонным голосом.\"\n",
            "    \"Вожатая лежала рядом.\"\n",
            "    \"Я сел рядом и посмотрел в глаза Алисы.\"\n",
            "    me \"Что с тобой?\"\n",
            "    show un shocked pioneer at center with dspr\n",
            "    un \"Ничего, просто голова немного закружилась.\"\n",
            "    me \"Что такое?\"\n",
            "    show un shocked pioneer at center with dspr\n",
            "    un \"Ничего, просто голова немного закружилась…\"\n",
            "    \"Алиса положила голову мне на плечо и улыбнулась.\"\n",
            "    show un smile pioneer at center with dspr\n",
            "    un \"Спасибо…\"\n",
            "    me \"За что?{w} Что такого?\"\n",
            "    un \"За всё!\"\n",
            "    me \"За что?{w} Что случилось?\"\n",
            "    \"Я не мог говорить.\"\n",
            "    show un normal pioneer at center with dspr\n",
            "    un \"За всё!\"\n",
            "    \"Она нежно погладила меня по голове.\"\n",
            "    me \"Что же со мной такое было?{w} Почему всё это произошло? Почему я не могу вернуться назад в лагерь?\"\n",
            "    show un shocked pioneer at center with dspr\n",
            "    un \"Не знаю…{w} Не знаю…\"\n",
            "    \"Алиса положила голову мне на плечо и нежно поцеловала.\"\n",
            "    me \"И всё это ты говоришь мне только потому что…\"\n",
            "    show un normal pioneer at center with dspr\n",
            "    un \"Да, но я не могу…{w} Я просто не могу так просто взять и уехать.\"\n",
            "    th \"И как я могу быть уверен, что это всего лишь сон?\"\n",
            "    \"Я посмотрел на Алису.\"\n",
            "    me \"Ты же знаешь, что это не сон.\"\n",
            "    un \"Но почему же…\"\n",
            "    \"Она еле заметно покачала головой.\"\n",
            "    me \"Потому что всё случилось не со мной.{w} Не со мной.\"\n",
            "    \"Алиса ничего не ответила.\"\n",
            "    me \"И что же тогда?\"\n",
            "    \"Я вздохнул и опустил голову на руки.\"\n",
            "    \"Если она хочет мне что-то объяснить, то стоит спросить.\"\n",
            "    me \"А что случилось со Славей?\"\n",
            "    un \"С ней…\"\n",
            "    \"Алиса нежно обняла меня.\"\n",
            "    me \"Что со Славей?\"\n",
            "    \"Я никак не мог понять, что происходит.\"\n",
            "    me \"С ней всё в порядке.{w} Всё хорошо.{w} Просто замечательно!{w} И я счастлив!\"\n",
            "    \"Она нежно погладила меня по голове.\"\n",
            "    me \"А что со мной не так?\"\n",
            "    un \"Ты сам этого хочешь.\"\n",
            "    \"Она рассмеялась и нежно погладила меня по голове.\"\n",
            "    me \"Но ведь это всё не со мной.\"\n",
            "    show un smile pioneer at center with dspr\n",
            "    un \"Не со мной…\"\n",
            "    \"В её глазах появилось что-то новое, но я тут же закрыл их.\"\n",
            "    un \"Что-то не так?\"\n",
            "    me \"Нет…{w} Просто я…{w} Я просто устал от всего…\"\n",
            "    \"Я не мог подобрать нужных слов.\"\n",
            "    me \"И я хочу, чтобы ты вернулась в лагерь!\"\n",
            "    un \"Нет…\"\n",
            "    \"Она вздохнула.\"\n",
            "    \"В её глазах промелькнула тень недовольства.\"\n",
            "    th \"Что же, это вполне объяснимо, ведь я не могу вот так просто взять и уехать…\"\n",
            "    \"Я не мог больше смотреть на неё.\"\n",
            "    me \"Что же теперь?\"\n",
            "    \"Я не знал, что ответить.\"\n",
            "    show un surprise pioneer at center with dspr\n",
            "    un \"Ничего…{w} Просто устала от всего…\"\n",
            "    me \"А что со мной не так?\"\n",
            "    un \"Просто я не знаю.\"\n",
            "    \"Алиса нежно погладила меня по голове.\"\n",
            "    me \"А что я знаю?\"\n",
            "    un \"Что ты не хочешь возвращаться.\"\n",
            "    me \"Нет…{w} Я просто устал.\"\n",
            "    \"Она нежно улыбнулась.\"\n",
            "    me \"И что же я устал?\"\n",
            "    \"Я не знал, как начать разговор.\"\n",
            "    \"А ведь мне так хотелось спать…\"\n",
            "    me \"Ну, я могу тебе кое-что объяснить.{w} Просто мне очень тяжело сейчас, но я постараюсь всё обдумать.\"\n",
            "    un \"А что будет потом?\"\n",
            "    me \"Я не знаю…\"\n",
            "    un \"Тогда я расскажу.\"\n",
            "    me \"Хорошо, давай попозже.\"\n",
            "    show un sad pioneer at center with dspr\n",
            "    un \"Хорошо.\"\n",
            "    \"Она встала и собралась уходить.\"\n",
            "    me \"Ладно, давай завтра увидимся!\"\n"
          ]
        }
      ]
    },
    {
      "cell_type": "markdown",
      "metadata": {
        "id": "_9FmC4TC1IZg"
      },
      "source": [
        "Выберите наиболее подходящий вам варинат из получившихся и вставьте в файл `.rpy`, соответсвующий необходимой локации, на место находящегося там фрагмента, из папки: `...\\steamapps\\workshop\\content\\331470\\2627738437\\mods\\doesntexist\\`\n",
        "(или же туда куда вам будет необходимо).\n",
        "\n",
        "В созданном скрипте возможны некоторые ошибки по типу: неправильное название музыки/эмбиента/цг, отсутвие \" в конце строки и другие. Их необходимо исправить вручную."
      ]
    },
    {
      "cell_type": "markdown",
      "metadata": {
        "id": "hDjF_6Vd2Z3M"
      },
      "source": [
        "(Файл с расшифровками бг можно найти в папке с модом.)"
      ]
    },
    {
      "cell_type": "markdown",
      "metadata": {
        "id": "Jt_29IvN-hgt"
      },
      "source": [
        "Удачи с использованием этого кода! (В будущем возможно улучшение модели)\n",
        "\n",
        "[Модель на Hugging Face](https://huggingface.co/VvVitekVvV/everlasting_summer_small)\n",
        "\n",
        "[Мой Steam аккаунт](https://steamcommunity.com/id/VvVitekVvV)\n"
      ]
    }
  ]
}